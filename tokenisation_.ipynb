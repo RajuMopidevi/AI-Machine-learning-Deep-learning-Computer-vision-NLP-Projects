{
  "cells": [
    {
      "cell_type": "markdown",
      "metadata": {
        "id": "view-in-github",
        "colab_type": "text"
      },
      "source": [
        "<a href=\"https://colab.research.google.com/github/RajuMopidevi/AI-Machine-learning-Deep-learning-Computer-vision-NLP-Projects/blob/main/tokenisation_.ipynb\" target=\"_parent\"><img src=\"https://colab.research.google.com/assets/colab-badge.svg\" alt=\"Open In Colab\"/></a>"
      ]
    },
    {
      "cell_type": "markdown",
      "metadata": {
        "id": "bhpp_uDVXemt"
      },
      "source": [
        "# Tokenisation\n",
        "\n",
        "The notebook contains three types of tokenisation techniques:\n",
        "1. Word tokenisation\n",
        "2. Sentence tokenisation\n",
        "3. Tweet tokenisation\n",
        "4. Custom tokenisation using regular expressions"
      ]
    },
    {
      "cell_type": "markdown",
      "metadata": {
        "id": "qE9mTYvCXemw"
      },
      "source": [
        "### 1. Word tokenisation"
      ]
    },
    {
      "cell_type": "code",
      "execution_count": 6,
      "metadata": {
        "colab": {
          "base_uri": "https://localhost:8080/"
        },
        "id": "yBxyuxzYXemx",
        "outputId": "26d1d4ba-506d-42e7-cdab-b49f1276341d"
      },
      "outputs": [
        {
          "output_type": "stream",
          "name": "stdout",
          "text": [
            "At nine o'clock I visited him myself. It looks like religious mania, and he'll soon think that he himself is God.\n"
          ]
        }
      ],
      "source": [
        "document = \"At nine o'clock I visited him myself. It looks like religious mania, and he'll soon think that he himself is God.\"\n",
        "print(document)"
      ]
    },
    {
      "cell_type": "markdown",
      "metadata": {
        "id": "mAZHjrjbXemy"
      },
      "source": [
        "Tokenising on spaces using python"
      ]
    },
    {
      "cell_type": "code",
      "execution_count": 7,
      "metadata": {
        "colab": {
          "base_uri": "https://localhost:8080/"
        },
        "id": "vY1hg-FQXemz",
        "outputId": "a67e83b3-34bf-4d04-d323-3bc50abfde87"
      },
      "outputs": [
        {
          "output_type": "stream",
          "name": "stdout",
          "text": [
            "['At', 'nine', \"o'clock\", 'I', 'visited', 'him', 'myself.', 'It', 'looks', 'like', 'religious', 'mania,', 'and', \"he'll\", 'soon', 'think', 'that', 'he', 'himself', 'is', 'God.']\n"
          ]
        }
      ],
      "source": [
        "print(document.split())"
      ]
    },
    {
      "cell_type": "markdown",
      "metadata": {
        "id": "WO8-ZHLDXemz"
      },
      "source": [
        "Tokenising using nltk word tokeniser"
      ]
    },
    {
      "cell_type": "code",
      "source": [
        "import nltk\n",
        "nltk.download(\"punkt\")"
      ],
      "metadata": {
        "colab": {
          "base_uri": "https://localhost:8080/"
        },
        "id": "_g0WkuGDYTDE",
        "outputId": "1c0a9b17-d4ae-4e09-ee95-3241c6b08954"
      },
      "execution_count": 8,
      "outputs": [
        {
          "output_type": "stream",
          "name": "stderr",
          "text": [
            "[nltk_data] Downloading package punkt to /root/nltk_data...\n",
            "[nltk_data]   Package punkt is already up-to-date!\n"
          ]
        },
        {
          "output_type": "execute_result",
          "data": {
            "text/plain": [
              "True"
            ]
          },
          "metadata": {},
          "execution_count": 8
        }
      ]
    },
    {
      "cell_type": "code",
      "execution_count": 9,
      "metadata": {
        "collapsed": true,
        "id": "VVHvVNvUXemz"
      },
      "outputs": [],
      "source": [
        "from nltk.tokenize import word_tokenize\n",
        "words = word_tokenize(document)"
      ]
    },
    {
      "cell_type": "code",
      "execution_count": 10,
      "metadata": {
        "colab": {
          "base_uri": "https://localhost:8080/"
        },
        "id": "HNV4-_4MXem0",
        "outputId": "0e63add5-506e-4199-e3c7-677614fed5e0"
      },
      "outputs": [
        {
          "output_type": "stream",
          "name": "stdout",
          "text": [
            "['At', 'nine', \"o'clock\", 'I', 'visited', 'him', 'myself', '.', 'It', 'looks', 'like', 'religious', 'mania', ',', 'and', 'he', \"'ll\", 'soon', 'think', 'that', 'he', 'himself', 'is', 'God', '.']\n"
          ]
        }
      ],
      "source": [
        "print(words)"
      ]
    },
    {
      "cell_type": "markdown",
      "metadata": {
        "id": "w9otZbvYXem0"
      },
      "source": [
        "NLTK's word tokeniser not only breaks on whitespaces but also breaks contraction words such as he'll into \"he\" and \"'ll\". On the other hand it doesn't break \"o'clock\" and treats it as a separate token."
      ]
    },
    {
      "cell_type": "markdown",
      "metadata": {
        "id": "YZp0Xsm1Xem1"
      },
      "source": [
        "### 2. Sentence tokeniser"
      ]
    },
    {
      "cell_type": "markdown",
      "metadata": {
        "id": "NhNeqBXSXem1"
      },
      "source": [
        "Tokenising based on sentence requires you to split on the period ('.'). Let's use nltk sentence tokeniser."
      ]
    },
    {
      "cell_type": "code",
      "execution_count": 11,
      "metadata": {
        "collapsed": true,
        "id": "BE3mV4F0Xem2"
      },
      "outputs": [],
      "source": [
        "from nltk.tokenize import sent_tokenize\n",
        "sentences = sent_tokenize(document)"
      ]
    },
    {
      "cell_type": "code",
      "execution_count": 12,
      "metadata": {
        "colab": {
          "base_uri": "https://localhost:8080/"
        },
        "id": "KREb1YyGXem2",
        "outputId": "d455e8bd-03ce-4e3e-e1c7-0b29f2c9702b"
      },
      "outputs": [
        {
          "output_type": "stream",
          "name": "stdout",
          "text": [
            "[\"At nine o'clock I visited him myself.\", \"It looks like religious mania, and he'll soon think that he himself is God.\"]\n"
          ]
        }
      ],
      "source": [
        "print(sentences)"
      ]
    },
    {
      "cell_type": "markdown",
      "metadata": {
        "id": "B4Ysru89Xem2"
      },
      "source": [
        "### 3. Tweet tokeniser"
      ]
    },
    {
      "cell_type": "markdown",
      "metadata": {
        "id": "wSizCD3DXem2"
      },
      "source": [
        "A problem with word tokeniser is that it fails to tokeniser emojis and other complex special characters such as word with hashtags. Emojis are common these days and people use them all the time."
      ]
    },
    {
      "cell_type": "code",
      "execution_count": 13,
      "metadata": {
        "collapsed": true,
        "id": "-2Py4i7ZXem3"
      },
      "outputs": [],
      "source": [
        "message = \"i recently watched this show called mindhunters:). i totally loved it 😍. it was gr8 <3. #bingewatching #nothingtodo 😎\""
      ]
    },
    {
      "cell_type": "code",
      "execution_count": 14,
      "metadata": {
        "scrolled": true,
        "colab": {
          "base_uri": "https://localhost:8080/"
        },
        "id": "L7NvHJz2Xem3",
        "outputId": "c38b60ce-447d-4252-81ec-9f329d038953"
      },
      "outputs": [
        {
          "output_type": "stream",
          "name": "stdout",
          "text": [
            "['i', 'recently', 'watched', 'this', 'show', 'called', 'mindhunters', ':', ')', '.', 'i', 'totally', 'loved', 'it', '😍', '.', 'it', 'was', 'gr8', '<', '3', '.', '#', 'bingewatching', '#', 'nothingtodo', '😎']\n"
          ]
        }
      ],
      "source": [
        "print(word_tokenize(message))"
      ]
    },
    {
      "cell_type": "markdown",
      "metadata": {
        "id": "XG8L-ct-Xem3"
      },
      "source": [
        "The word tokeniser breaks the emoji '<3' into '<' and '3' which is something that we don't want. Emojis have their own significance in areas like sentiment analysis where a happy face and sad face can salone prove to be a really good predictor of the sentiment. Similarly, the hashtags are broken into two tokens. A hashtag is used for searching specific topics or photos in social media apps such as Instagram and facebook. So there, you want to use the hashtag as is.\n",
        "\n",
        "Let's use the tweet tokeniser of nltk to tokenise this message."
      ]
    },
    {
      "cell_type": "code",
      "execution_count": 15,
      "metadata": {
        "collapsed": true,
        "id": "IcnGrtmYXem4"
      },
      "outputs": [],
      "source": [
        "from nltk.tokenize import TweetTokenizer\n",
        "tknzr = TweetTokenizer()"
      ]
    },
    {
      "cell_type": "code",
      "execution_count": 16,
      "metadata": {
        "colab": {
          "base_uri": "https://localhost:8080/"
        },
        "id": "wCsnhs3hXem4",
        "outputId": "5d77a77a-3bfd-4b74-8182-cf5c96af9f12"
      },
      "outputs": [
        {
          "output_type": "execute_result",
          "data": {
            "text/plain": [
              "['i',\n",
              " 'recently',\n",
              " 'watched',\n",
              " 'this',\n",
              " 'show',\n",
              " 'called',\n",
              " 'mindhunters',\n",
              " ':)',\n",
              " '.',\n",
              " 'i',\n",
              " 'totally',\n",
              " 'loved',\n",
              " 'it',\n",
              " '😍',\n",
              " '.',\n",
              " 'it',\n",
              " 'was',\n",
              " 'gr8',\n",
              " '<3',\n",
              " '.',\n",
              " '#bingewatching',\n",
              " '#nothingtodo',\n",
              " '😎']"
            ]
          },
          "metadata": {},
          "execution_count": 16
        }
      ],
      "source": [
        "tknzr.tokenize(message)"
      ]
    },
    {
      "cell_type": "markdown",
      "metadata": {
        "id": "Hwu91ilpXem4"
      },
      "source": [
        "As you can see, it handles all the emojis and the hashtags pretty well.\n",
        "\n",
        "Now, there is a tokeniser that takes a regular expression and tokenises and returns result based on the pattern of regular expression.\n",
        "\n",
        "Let's look at how you can use regular expression tokeniser."
      ]
    },
    {
      "cell_type": "code",
      "execution_count": 17,
      "metadata": {
        "collapsed": true,
        "id": "7LZ46SNiXem4"
      },
      "outputs": [],
      "source": [
        "from nltk.tokenize import regexp_tokenize\n",
        "message = \"i recently watched this show called mindhunters:). i totally loved it 😍. it was gr8 <3. #bingewatching #nothingtodo 😎\"\n",
        "pattern = \"#[\\w]+\""
      ]
    },
    {
      "cell_type": "code",
      "execution_count": 18,
      "metadata": {
        "colab": {
          "base_uri": "https://localhost:8080/"
        },
        "id": "FH5ad3IhXem5",
        "outputId": "6ee20ce1-0794-455e-dcdb-7c69908edaeb"
      },
      "outputs": [
        {
          "output_type": "execute_result",
          "data": {
            "text/plain": [
              "['#bingewatching', '#nothingtodo']"
            ]
          },
          "metadata": {},
          "execution_count": 18
        }
      ],
      "source": [
        "regexp_tokenize(message, pattern)"
      ]
    },
    {
      "cell_type": "code",
      "source": [
        "nltk.download('stopwords')"
      ],
      "metadata": {
        "colab": {
          "base_uri": "https://localhost:8080/"
        },
        "id": "VRedYm3kcrBJ",
        "outputId": "c739448c-ede8-4941-8d6c-617a356aecf4"
      },
      "execution_count": 20,
      "outputs": [
        {
          "output_type": "stream",
          "name": "stderr",
          "text": [
            "[nltk_data] Downloading package stopwords to /root/nltk_data...\n",
            "[nltk_data]   Unzipping corpora/stopwords.zip.\n"
          ]
        },
        {
          "output_type": "execute_result",
          "data": {
            "text/plain": [
              "True"
            ]
          },
          "metadata": {},
          "execution_count": 20
        }
      ]
    },
    {
      "cell_type": "code",
      "source": [
        "from nltk.tokenize import word_tokenize\n",
        "from nltk.corpus import stopwords\n",
        "\n",
        "sentence = '“Education is the most powerful weapon that you can use to change the world”'\n",
        "\n",
        "# change sentence to lowercase\n",
        "sentence =  sentence.lower()  # write code here\n",
        "\n",
        "# tokenise sentence into words\n",
        "words = word_tokenize(sentence)# write code here\n",
        "\n",
        "# extract nltk stop word list\n",
        "stopwords = stopwords.words('english') # write code here\n",
        "\n",
        "# remove stop words\n",
        "no_stops = [word for word in words if word not in stopwords] # write code here\n",
        "\n",
        "# print length - don't change the following piece of code\n",
        "print(len(no_stops))"
      ],
      "metadata": {
        "colab": {
          "base_uri": "https://localhost:8080/"
        },
        "id": "gNyNP1RMbxCN",
        "outputId": "8012f3ad-e062-43f5-b8c4-7fc4ce1f81d5"
      },
      "execution_count": 21,
      "outputs": [
        {
          "output_type": "stream",
          "name": "stdout",
          "text": [
            "8\n"
          ]
        }
      ]
    },
    {
      "cell_type": "code",
      "source": [
        "from nltk.tokenize import sent_tokenize\n",
        "from nltk.corpus import stopwords\n",
        "import ast, sys\n",
        "text = 'Develop a passion for your learning. If you do, you’ll never cease to grow.'\n",
        "\n",
        "# change sentence to lowercase\n",
        "text = text.lower()\n",
        "\n",
        "# tokenise sentence into words\n",
        "sentences = sent_tokenize(text) # write code here\n",
        "\n",
        "# print length - don't change the following piece of code\n",
        "print(len(sentences))"
      ],
      "metadata": {
        "colab": {
          "base_uri": "https://localhost:8080/"
        },
        "id": "Lb_5M4DAc_o9",
        "outputId": "5ead15ac-8d26-4ac7-b218-deeba5ff3d79"
      },
      "execution_count": 22,
      "outputs": [
        {
          "output_type": "stream",
          "name": "stdout",
          "text": [
            "2\n"
          ]
        }
      ]
    },
    {
      "cell_type": "code",
      "source": [
        "from nltk.tokenize import regexp_tokenize\n",
        "from nltk.corpus import stopwords\n",
        "text = 'So excited to be a part of machine learning and artificial intelligence program made by @upgrad and @iiitb'\n",
        "\n",
        "# change text to lowercase\n",
        "text = text.lower()# write code here\n",
        "\n",
        "# pattern to extract mentions\n",
        "pattern = \"@[a-zA-Z0-9_]+\" # write regex pattern here\n",
        "\n",
        "# extract mentions by using regex tokeniser\n",
        "mentions = regexp_tokenize(text,pattern) # write code here\n",
        "\n",
        "# print length - don't change the following piece of code\n",
        "print(len(mentions))"
      ],
      "metadata": {
        "colab": {
          "base_uri": "https://localhost:8080/"
        },
        "id": "HIuvIkkzdo96",
        "outputId": "0ee65df1-e7ab-4e3b-96c5-32f163d006b6"
      },
      "execution_count": 24,
      "outputs": [
        {
          "output_type": "stream",
          "name": "stdout",
          "text": [
            "2\n"
          ]
        }
      ]
    },
    {
      "cell_type": "code",
      "source": [
        "d1='there was one place on my ankle that was itching'\n",
        "d2='but we did not scratch it'\n",
        "d3='and then my ear began to itch'\n",
        "d4='and next my back'\n",
        "s1=d1.split()\n",
        "s=d1.split()+d2.split() + d3.split() + d4.split()\n",
        "print(sorted(s))\n",
        "print(len(s))\n",
        "print(set(sorted(s)))\n"
      ],
      "metadata": {
        "colab": {
          "base_uri": "https://localhost:8080/"
        },
        "id": "0rAGbmryh9TV",
        "outputId": "31292cc8-dcc1-4e33-c70e-11eebf3fb18f"
      },
      "execution_count": 31,
      "outputs": [
        {
          "output_type": "stream",
          "name": "stdout",
          "text": [
            "['and', 'and', 'ankle', 'back', 'began', 'but', 'did', 'ear', 'it', 'itch', 'itching', 'my', 'my', 'my', 'next', 'not', 'on', 'one', 'place', 'scratch', 'that', 'then', 'there', 'to', 'was', 'was', 'we']\n",
            "27\n",
            "{'my', 'back', 'that', 'there', 'began', 'and', 'ear', 'place', 'was', 'itching', 'itch', 'one', 'scratch', 'it', 'ankle', 'not', 'on', 'next', 'we', 'to', 'but', 'did', 'then'}\n"
          ]
        }
      ]
    }
  ],
  "metadata": {
    "kernelspec": {
      "display_name": "Python 3",
      "language": "python",
      "name": "python3"
    },
    "language_info": {
      "codemirror_mode": {
        "name": "ipython",
        "version": 3
      },
      "file_extension": ".py",
      "mimetype": "text/x-python",
      "name": "python",
      "nbconvert_exporter": "python",
      "pygments_lexer": "ipython3",
      "version": "3.6.5"
    },
    "colab": {
      "provenance": [],
      "include_colab_link": true
    }
  },
  "nbformat": 4,
  "nbformat_minor": 0
}